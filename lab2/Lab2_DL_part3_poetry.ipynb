{
  "cells": [
    {
      "cell_type": "markdown",
      "metadata": {
        "id": "QxEMOnRRpq9T"
      },
      "source": [
        "## Lab 2"
      ]
    },
    {
      "cell_type": "markdown",
      "metadata": {
        "id": "x50PVUUxpq9U"
      },
      "source": [
        "### Part 3. Poetry generation\n",
        "\n",
        "Let's try to generate some poetry using RNNs. \n",
        "\n",
        "You have several choices here: \n",
        "\n",
        "* The Shakespeare sonnets, file `sonnets.txt` available in the notebook directory.\n",
        "\n",
        "* Роман в стихах \"Евгений Онегин\" Александра Сергеевича Пушкина. В предобработанном виде доступен по [ссылке](https://github.com/attatrol/data_sources/blob/master/onegin.txt).\n",
        "\n",
        "* Some other text source, if it will be approved by the course staff.\n",
        "\n",
        "Text generation can be designed in several steps:\n",
        "    \n",
        "1. Data loading.\n",
        "2. Dictionary generation.\n",
        "3. Data preprocessing.\n",
        "4. Model (neural network) training.\n",
        "5. Text generation (model evaluation).\n"
      ]
    },
    {
      "cell_type": "code",
      "execution_count": null,
      "metadata": {
        "id": "44tPSFhCpq9V"
      },
      "outputs": [],
      "source": [
        "import string\n",
        "import os\n",
        "import numpy as np\n",
        "import torch, torch.nn as nn\n",
        "import torch.nn.functional as F\n",
        "from typing import Tuple, List, Type, Dict, Any\n",
        "import matplotlib.pyplot as plt"
      ]
    },
    {
      "cell_type": "markdown",
      "metadata": {
        "id": "JBa_qeEopq9V"
      },
      "source": [
        "### Data loading: \"Евгений Онегин\"\n"
      ]
    },
    {
      "cell_type": "code",
      "execution_count": null,
      "metadata": {
        "colab": {
          "base_uri": "https://localhost:8080/"
        },
        "id": "9h_Q11I8pq9V",
        "outputId": "a074f98d-eecd-460c-efd6-40f7c14d8e11"
      },
      "outputs": [
        {
          "output_type": "stream",
          "name": "stdout",
          "text": [
            "--2022-12-28 22:10:27--  https://raw.githubusercontent.com/attatrol/data_sources/master/onegin.txt\n",
            "Resolving raw.githubusercontent.com (raw.githubusercontent.com)... 185.199.108.133, 185.199.109.133, 185.199.111.133, ...\n",
            "Connecting to raw.githubusercontent.com (raw.githubusercontent.com)|185.199.108.133|:443... connected.\n",
            "HTTP request sent, awaiting response... 200 OK\n",
            "Length: 262521 (256K) [text/plain]\n",
            "Saving to: ‘onegin.txt’\n",
            "\n",
            "\ronegin.txt            0%[                    ]       0  --.-KB/s               \ronegin.txt          100%[===================>] 256.37K  --.-KB/s    in 0.03s   \n",
            "\n",
            "2022-12-28 22:10:27 (8.23 MB/s) - ‘onegin.txt’ saved [262521/262521]\n",
            "\n"
          ]
        }
      ],
      "source": [
        "\n",
        "!wget https://raw.githubusercontent.com/attatrol/data_sources/master/onegin.txt\n",
        "    \n",
        "with open('onegin.txt', 'r') as iofile:\n",
        "    text = iofile.readlines()\n",
        "    \n",
        "text = [x.replace('\\t\\t', '') for x in text]"
      ]
    },
    {
      "cell_type": "markdown",
      "metadata": {
        "id": "4f-BgHGDpq9W"
      },
      "source": [
        "In opposite to the in-class practice, this time we want to predict complex text. Let's reduce the complexity of the task and lowercase all the symbols.\n",
        "\n",
        "Now variable `text` is a list of strings. Join all the strings into one and lowercase it."
      ]
    },
    {
      "cell_type": "code",
      "execution_count": null,
      "metadata": {
        "id": "Y0PnaCa3pq9W"
      },
      "outputs": [],
      "source": [
        "# Join all the strings into one and lowercase it\n",
        "# Put result into variable text.\n",
        "\n",
        "# Your great code here\n",
        "text_new = ''.join(text).lower()"
      ]
    },
    {
      "cell_type": "markdown",
      "metadata": {
        "id": "vm3ZwuN1pq9W"
      },
      "source": [
        "Put all the characters, that you've seen in the text, into variable `tokens`."
      ]
    },
    {
      "cell_type": "code",
      "execution_count": null,
      "metadata": {
        "id": "HK-29xB_pq9W"
      },
      "outputs": [],
      "source": [
        "tokens = sorted(set(text_new))"
      ]
    },
    {
      "cell_type": "markdown",
      "metadata": {
        "id": "jeDlOBmqpq9W"
      },
      "source": [
        "Create dictionary `token_to_idx = {<char>: <index>}` and dictionary `idx_to_token = {<index>: <char>}`"
      ]
    },
    {
      "cell_type": "code",
      "execution_count": null,
      "metadata": {
        "id": "YboDNHM2pq9W"
      },
      "outputs": [],
      "source": [
        "# dict <index>:<char>\n",
        "# Your great code here\n",
        "token_to_idx = {c: i for i, c in enumerate(tokens)}\n",
        "\n",
        "# dict <char>:<index>\n",
        "# Your great code here\n",
        "idx_to_token = {i: c for i, c in enumerate(tokens)}"
      ]
    },
    {
      "cell_type": "code",
      "execution_count": null,
      "metadata": {
        "id": "zvKR5feRpq9W"
      },
      "outputs": [],
      "source": [
        "coded_text = np.array([token_to_idx[ch] for ch in text_new])"
      ]
    },
    {
      "cell_type": "code",
      "execution_count": null,
      "metadata": {
        "colab": {
          "base_uri": "https://localhost:8080/"
        },
        "id": "PmUA0QZ1pq9X",
        "outputId": "796cd43d-d1c5-4989-b618-6b74c4867748"
      },
      "outputs": [
        {
          "output_type": "execute_result",
          "data": {
            "text/plain": [
              "83"
            ]
          },
          "metadata": {},
          "execution_count": 41
        }
      ],
      "source": [
        "len(tokens)"
      ]
    },
    {
      "cell_type": "markdown",
      "metadata": {
        "id": "ugpd1J4Bpq9X"
      },
      "source": [
        "*Comment: in this task we have only 38 different tokens, so let's use one-hot encoding.*"
      ]
    },
    {
      "cell_type": "markdown",
      "metadata": {
        "id": "_tJn-WEppq9X"
      },
      "source": [
        "### Building the model"
      ]
    },
    {
      "cell_type": "markdown",
      "metadata": {
        "id": "t-W74VBlpq9X"
      },
      "source": [
        "Now we want to build and train recurrent neural net which would be able to something similar to Shakespeare's poetry.\n",
        "\n",
        "Let's use vanilla RNN, similar to the one created during the lesson."
      ]
    },
    {
      "cell_type": "code",
      "execution_count": null,
      "metadata": {
        "id": "R_Rj2NtVpq9X"
      },
      "outputs": [],
      "source": [
        "n_classes = 83\n",
        "batch_size = 16\n",
        "seq_length = 50\n",
        "n_epochs = 30\n",
        "\n",
        "train_data, val_data = coded_text[:len(coded_text) * 8 // 10], coded_text[len(coded_text) * 8 // 10:]"
      ]
    },
    {
      "cell_type": "code",
      "execution_count": null,
      "metadata": {
        "id": "NrCGHKtMpq9Y"
      },
      "outputs": [],
      "source": [
        "class CharRNN_OHE(nn.Module):\n",
        "    def __init__(self, n_classes, n_hidden = 256, num_layers=1):\n",
        "        super(self.__class__, self).__init__()\n",
        "        self.n_classes = n_classes\n",
        "        self.n_hidden = n_hidden\n",
        "        self.num_layers = num_layers\n",
        "        \n",
        "        self.emb = nn.Embedding.from_pretrained(torch.eye(self.n_classes))\n",
        "        self.rnn = nn.RNN(self.n_classes, self.n_hidden, self.num_layers, batch_first=True)\n",
        "        self.act = nn.LeakyReLU()\n",
        "        self.drp = nn.Dropout()\n",
        "        self.fc = nn.Linear(self.n_hidden, self.n_classes)\n",
        "        \n",
        "    def forward(self, x, hid = None):\n",
        "        if hid == None:\n",
        "            hid = torch.zeros(self.num_layers, x.size(0), self.n_hidden)\n",
        "            \n",
        "        x_ohe = self.emb(x)\n",
        "        out, hid = self.rnn(x_ohe, hid)\n",
        "        out = out.contiguous().view(-1, self.n_hidden)\n",
        "        out = self.act(out)\n",
        "        out = self.drp(out)\n",
        "        out = self.fc(out)\n",
        "        return out, hid"
      ]
    },
    {
      "cell_type": "code",
      "execution_count": null,
      "metadata": {
        "id": "U6pGX8CUpq9Y"
      },
      "outputs": [],
      "source": [
        "def get_batches(arr, batch_size, seq_length):\n",
        "    batch_size_total = batch_size * seq_length\n",
        "    n_batches = len(arr) // batch_size_total\n",
        "    arr = arr[:n_batches * batch_size_total]\n",
        "    arr = arr.reshape((batch_size, -1))\n",
        "\n",
        "    for n in range(0, arr.shape[1], seq_length):\n",
        "        x = arr[:, n:n + seq_length]\n",
        "        y = np.zeros_like(x)\n",
        "        try:\n",
        "            y[:, :-1], y[:, -1] = x[:, 1:], arr[:, n + seq_length]\n",
        "        except IndexError:\n",
        "            y[:, :-1], y[:, -1] = x[:, 1:], arr[:, 0]\n",
        "        yield x, y"
      ]
    },
    {
      "cell_type": "code",
      "execution_count": null,
      "metadata": {
        "id": "lwI2Qp5ppq9Y"
      },
      "outputs": [],
      "source": [
        "def train_model(net, train_data, val_data, criterion, \n",
        "                opt, lr_scheduler_class: Any = torch.optim.lr_scheduler.ReduceLROnPlateau, lr_scheduler_params: Dict = {}):\n",
        "    val_loss = []\n",
        "    train_loss = []\n",
        "    \n",
        "    lr_scheduler = lr_scheduler_class(opt, **lr_scheduler_params)\n",
        "\n",
        "    for epoch in range(n_epochs):\n",
        "                \n",
        "        ep_val_loss = []\n",
        "        ep_train_loss = []\n",
        "\n",
        "        net.train()\n",
        "        for x, y in get_batches(train_data, batch_size, seq_length):\n",
        "            inputs, targets = torch.from_numpy(x), torch.from_numpy(y)\n",
        "            targets = targets.reshape((batch_size * seq_length,))\n",
        "            \n",
        "            net.zero_grad()\n",
        "            output, hidden = net(inputs)\n",
        "\n",
        "            loss = criterion(output, targets.long())\n",
        "            loss.backward()\n",
        "            \n",
        "            ep_train_loss.append(loss.item())\n",
        "            opt.step()\n",
        "            \n",
        "        net.eval()\n",
        "        for x, y in get_batches(val_data, batch_size, seq_length):\n",
        "            inputs, targets = torch.from_numpy(x), torch.from_numpy(y)\n",
        "            targets = targets.reshape((batch_size * seq_length,))\n",
        "            \n",
        "            output, val_hidden = net(inputs)\n",
        "\n",
        "            loss = criterion(output, targets.long()) \n",
        "            \n",
        "            ep_val_loss.append(loss.item())\n",
        "        \n",
        "        lr_scheduler.step(loss.item())\n",
        "        \n",
        "        print(f'Epoch {epoch + 1} of {n_epochs}')\n",
        "\n",
        "        train_loss.append(np.mean(ep_train_loss))\n",
        "        val_loss.append(np.mean(ep_val_loss))\n",
        "        \n",
        "        print(f\"\\t  loss via training: {train_loss[-1]:.6f}\")\n",
        "        print(f\"\\t loss thru validation: {val_loss[-1]:.6f}\")\n",
        "\n",
        "    return train_loss, val_loss"
      ]
    },
    {
      "cell_type": "code",
      "execution_count": null,
      "metadata": {
        "colab": {
          "base_uri": "https://localhost:8080/"
        },
        "id": "jO2sGZEApq9Y",
        "outputId": "1ad33d03-d0e3-4cb4-92fd-7405e43b275d"
      },
      "outputs": [
        {
          "output_type": "stream",
          "name": "stdout",
          "text": [
            "Epoch 1 of 30\n",
            "\t  loss via training: 3.430453\n",
            "\t loss thru validation: 3.307596\n",
            "Epoch 2 of 30\n",
            "\t  loss via training: 3.238436\n",
            "\t loss thru validation: 3.106624\n",
            "Epoch 3 of 30\n",
            "\t  loss via training: 3.002348\n",
            "\t loss thru validation: 2.852048\n",
            "Epoch 4 of 30\n",
            "\t  loss via training: 2.809530\n",
            "\t loss thru validation: 2.688530\n",
            "Epoch 5 of 30\n",
            "\t  loss via training: 2.697319\n",
            "\t loss thru validation: 2.595668\n",
            "Epoch 6 of 30\n",
            "\t  loss via training: 2.617420\n",
            "\t loss thru validation: 2.532785\n",
            "Epoch 7 of 30\n",
            "\t  loss via training: 2.557136\n",
            "\t loss thru validation: 2.476710\n",
            "Epoch 8 of 30\n",
            "\t  loss via training: 2.508449\n",
            "\t loss thru validation: 2.432316\n",
            "Epoch 9 of 30\n",
            "\t  loss via training: 2.465073\n",
            "\t loss thru validation: 2.395545\n",
            "Epoch 10 of 30\n",
            "\t  loss via training: 2.421984\n",
            "\t loss thru validation: 2.356473\n",
            "Epoch 11 of 30\n",
            "\t  loss via training: 2.398276\n",
            "\t loss thru validation: 2.340079\n",
            "Epoch 12 of 30\n",
            "\t  loss via training: 2.371717\n",
            "\t loss thru validation: 2.312714\n",
            "Epoch 13 of 30\n",
            "\t  loss via training: 2.347408\n",
            "\t loss thru validation: 2.292430\n",
            "Epoch 14 of 30\n",
            "\t  loss via training: 2.327187\n",
            "\t loss thru validation: 2.274821\n",
            "Epoch 15 of 30\n",
            "\t  loss via training: 2.309861\n",
            "\t loss thru validation: 2.273432\n",
            "Epoch 16 of 30\n",
            "\t  loss via training: 2.298382\n",
            "\t loss thru validation: 2.247615\n",
            "Epoch 17 of 30\n",
            "\t  loss via training: 2.281154\n",
            "\t loss thru validation: 2.235362\n",
            "Epoch 18 of 30\n",
            "\t  loss via training: 2.267703\n",
            "\t loss thru validation: 2.219884\n",
            "Epoch 19 of 30\n",
            "\t  loss via training: 2.254833\n",
            "\t loss thru validation: 2.216091\n",
            "Epoch 20 of 30\n",
            "\t  loss via training: 2.240820\n",
            "\t loss thru validation: 2.206605\n",
            "Epoch 21 of 30\n",
            "\t  loss via training: 2.235593\n",
            "\t loss thru validation: 2.197131\n",
            "Epoch 22 of 30\n",
            "\t  loss via training: 2.224869\n",
            "\t loss thru validation: 2.193815\n",
            "Epoch 23 of 30\n",
            "\t  loss via training: 2.215247\n",
            "\t loss thru validation: 2.185892\n",
            "Epoch 24 of 30\n",
            "\t  loss via training: 2.205744\n",
            "\t loss thru validation: 2.182840\n",
            "Epoch 25 of 30\n",
            "\t  loss via training: 2.198934\n",
            "\t loss thru validation: 2.168382\n",
            "Epoch 26 of 30\n",
            "\t  loss via training: 2.191411\n",
            "\t loss thru validation: 2.169679\n",
            "Epoch 27 of 30\n",
            "\t  loss via training: 2.181747\n",
            "\t loss thru validation: 2.165227\n",
            "Epoch 28 of 30\n",
            "\t  loss via training: 2.177323\n",
            "\t loss thru validation: 2.158208\n",
            "Epoch 29 of 30\n",
            "\t  loss via training: 2.168143\n",
            "\t loss thru validation: 2.150092\n",
            "Epoch 30 of 30\n",
            "\t  loss via training: 2.160568\n",
            "\t loss thru validation: 2.147969\n"
          ]
        }
      ],
      "source": [
        "model_rnn = CharRNN_OHE(n_classes)\n",
        "opt = torch.optim.Adam(model_rnn.parameters())\n",
        "criterion = nn.CrossEntropyLoss()\n",
        "\n",
        "train_loss, val_loss = train_model(model_rnn, train_data, val_data, criterion, opt)"
      ]
    },
    {
      "cell_type": "markdown",
      "metadata": {
        "id": "570xDOAkpq9Y"
      },
      "source": [
        "Plot the loss function (axis X: number of epochs, axis Y: loss function)."
      ]
    },
    {
      "cell_type": "code",
      "execution_count": null,
      "metadata": {
        "colab": {
          "base_uri": "https://localhost:8080/",
          "height": 499
        },
        "id": "6ZsAkyIBpq9Z",
        "outputId": "2f6a350b-05ca-4b18-d0fa-0e29c0d3bbdf"
      },
      "outputs": [
        {
          "output_type": "display_data",
          "data": {
            "text/plain": [
              "<Figure size 1152x576 with 1 Axes>"
            ],
            "image/png": "[encoded data removed]"
          },
          "metadata": {
            "needs_background": "light"
          }
        }
      ],
      "source": [
        "plt.figure(figsize=(16, 8))\n",
        "plt.title('RNN Loss')\n",
        "plt.ylabel = 'Value'\n",
        "plt.plot(train_loss, label='train')\n",
        "plt.plot(val_loss, label='validation')\n",
        "plt.grid()\n",
        "plt.legend(); "
      ]
    },
    {
      "cell_type": "code",
      "execution_count": null,
      "metadata": {
        "id": "1FmEe8TUpq9Z"
      },
      "outputs": [],
      "source": [
        "def generate_sample(char_rnn, seed_phrase=' привет', max_length=200, temperature=1.0):\n",
        "    '''\n",
        "    ### Disclaimer: this is an example function for text generation.\n",
        "    ### You can either adapt it in your code or create your own function\n",
        "    \n",
        "    The function generates text given a phrase of length at least SEQ_LENGTH.\n",
        "    :param seed_phrase: prefix characters. The RNN is asked to continue the phrase\n",
        "    :param max_length: maximum output length, including seed_phrase\n",
        "    :param temperature: coefficient for sampling.  higher temperature produces more chaotic outputs, \n",
        "        smaller temperature converges to the single most likely output.\n",
        "        \n",
        "    Be careful with the model output. This model waits logits (not probabilities/log-probabilities)\n",
        "    of the next symbol.\n",
        "    '''\n",
        "    char_rnn.eval()\n",
        "    x_sequence = [token_to_idx[token] for token in seed_phrase]\n",
        "    x_sequence = torch.tensor([[x_sequence]], dtype=torch.int64)\n",
        "    hid_state = None\n",
        "    \n",
        "    #feed the seed phrase, if any\n",
        "    for i in range(len(seed_phrase) - 1):\n",
        "        out, hid_state = char_rnn(x_sequence[:, :, i], hid_state)\n",
        "    \n",
        "    #start generating\n",
        "    for _ in range(max_length - len(seed_phrase)):\n",
        "        out, hid_state = char_rnn(x_sequence[:, :, -1], hid_state)\n",
        "        p_next = F.softmax(out / temperature, dim=-1).data.numpy()[0]\n",
        "        \n",
        "        # sample next token and push it back into x_sequence\n",
        "        next_ix = np.random.choice(len(tokens), p=p_next)\n",
        "        next_ix = torch.tensor([[next_ix]], dtype=torch.int64)\n",
        "        x_sequence = torch.cat([x_sequence, next_ix[None, :, :]], dim=2)\n",
        "        \n",
        "    return ''.join([tokens[ix] for ix in x_sequence.data.numpy()[0][0]])"
      ]
    },
    {
      "cell_type": "code",
      "execution_count": null,
      "metadata": {
        "colab": {
          "base_uri": "https://localhost:8080/"
        },
        "id": "iNBnopHHpq9Z",
        "outputId": "d22009ac-218a-48c1-c0c7-41f1e9a6ccbb"
      },
      "outputs": [
        {
          "output_type": "stream",
          "name": "stdout",
          "text": [
            " приветсоды катилась…»\n",
            "и премиенкавы, так залас слеил,\n",
            "неприждального душал\n",
            "оней, но не нужим, горнитвачая,\n",
            "о мно знакиме семсен,\n",
            "смола промноткму, едну на сврей\n",
            "монные утыбя перастя;\n",
            "дву с етцялся, п\n"
          ]
        }
      ],
      "source": [
        "# An example of generated text.\n",
        "print(generate_sample(model_rnn))"
      ]
    },
    {
      "cell_type": "markdown",
      "metadata": {
        "id": "dAOyx3CMpq9Z"
      },
      "source": [
        "### More poetic model\n",
        "\n",
        "Let's use LSTM instead of vanilla RNN and compare the results."
      ]
    },
    {
      "cell_type": "code",
      "execution_count": null,
      "metadata": {
        "id": "-SkMwXjKpq9Z"
      },
      "outputs": [],
      "source": [
        "class CharLSTM_OHE(nn.Module):\n",
        "    def __init__(self, n_classes, n_hidden = 256, num_layers = 1):\n",
        "        super(self.__class__, self).__init__()\n",
        "        self.n_classes = n_classes\n",
        "        self.n_hidden = n_hidden\n",
        "        self.num_layers = num_layers\n",
        "        \n",
        "        self.emb = nn.Embedding.from_pretrained(torch.eye(self.n_classes))\n",
        "        self.lstm = nn.LSTM(self.n_classes, self.n_hidden, self.num_layers, batch_first=True)\n",
        "        self.act = nn.LeakyReLU()\n",
        "        self.drp = nn.Dropout()\n",
        "        self.fc = nn.Linear(self.n_hidden, self.n_classes)\n",
        "        \n",
        "    def forward(self, x, hid = None):\n",
        "        if hid == None:\n",
        "            hid = (torch.zeros(self.num_layers, x.size(0), self.n_hidden), \n",
        "                   torch.zeros(self.num_layers, x.size(0), self.n_hidden))\n",
        "            \n",
        "        x_ohe = self.emb(x)\n",
        "        out, hid = self.lstm(x_ohe, hid)\n",
        "        out = out.contiguous().view(-1, self.n_hidden)\n",
        "        out = self.act(out)\n",
        "        out = self.drp(out)\n",
        "        out = self.fc(out)\n",
        "        return out, hid"
      ]
    },
    {
      "cell_type": "code",
      "execution_count": null,
      "metadata": {
        "colab": {
          "base_uri": "https://localhost:8080/"
        },
        "id": "t-gEB1NSpq9Z",
        "outputId": "78576974-b4e1-4ecb-b7c2-e51a09755f03"
      },
      "outputs": [
        {
          "output_type": "stream",
          "name": "stdout",
          "text": [
            "Epoch 1 of 30\n",
            "\t  loss via training: 3.458972\n",
            "\t loss thru validation: 3.321141\n",
            "Epoch 2 of 30\n",
            "\t  loss via training: 3.279797\n",
            "\t loss thru validation: 3.191339\n",
            "Epoch 3 of 30\n",
            "\t  loss via training: 3.104740\n",
            "\t loss thru validation: 2.986651\n",
            "Epoch 4 of 30\n",
            "\t  loss via training: 2.943297\n",
            "\t loss thru validation: 2.846591\n",
            "Epoch 5 of 30\n",
            "\t  loss via training: 2.837478\n",
            "\t loss thru validation: 2.757275\n",
            "Epoch 6 of 30\n",
            "\t  loss via training: 2.760851\n",
            "\t loss thru validation: 2.693425\n",
            "Epoch 7 of 30\n",
            "\t  loss via training: 2.712825\n",
            "\t loss thru validation: 2.645303\n",
            "Epoch 8 of 30\n",
            "\t  loss via training: 2.672044\n",
            "\t loss thru validation: 2.612949\n",
            "Epoch 9 of 30\n",
            "\t  loss via training: 2.638607\n",
            "\t loss thru validation: 2.584100\n",
            "Epoch 10 of 30\n",
            "\t  loss via training: 2.608607\n",
            "\t loss thru validation: 2.548279\n",
            "Epoch 11 of 30\n",
            "\t  loss via training: 2.581106\n",
            "\t loss thru validation: 2.519643\n",
            "Epoch 12 of 30\n",
            "\t  loss via training: 2.557273\n",
            "\t loss thru validation: 2.498101\n",
            "Epoch 13 of 30\n",
            "\t  loss via training: 2.535067\n",
            "\t loss thru validation: 2.476184\n",
            "Epoch 14 of 30\n",
            "\t  loss via training: 2.517475\n",
            "\t loss thru validation: 2.456694\n",
            "Epoch 15 of 30\n",
            "\t  loss via training: 2.499257\n",
            "\t loss thru validation: 2.441702\n",
            "Epoch 16 of 30\n",
            "\t  loss via training: 2.482848\n",
            "\t loss thru validation: 2.428900\n",
            "Epoch 17 of 30\n",
            "\t  loss via training: 2.469090\n",
            "\t loss thru validation: 2.412954\n",
            "Epoch 18 of 30\n",
            "\t  loss via training: 2.451860\n",
            "\t loss thru validation: 2.396258\n",
            "Epoch 19 of 30\n",
            "\t  loss via training: 2.437755\n",
            "\t loss thru validation: 2.382505\n",
            "Epoch 20 of 30\n",
            "\t  loss via training: 2.424858\n",
            "\t loss thru validation: 2.370604\n",
            "Epoch 21 of 30\n",
            "\t  loss via training: 2.410562\n",
            "\t loss thru validation: 2.357542\n",
            "Epoch 22 of 30\n",
            "\t  loss via training: 2.396076\n",
            "\t loss thru validation: 2.344945\n",
            "Epoch 23 of 30\n",
            "\t  loss via training: 2.386257\n",
            "\t loss thru validation: 2.333608\n",
            "Epoch 24 of 30\n",
            "\t  loss via training: 2.373896\n",
            "\t loss thru validation: 2.323592\n",
            "Epoch 25 of 30\n",
            "\t  loss via training: 2.362118\n",
            "\t loss thru validation: 2.315345\n",
            "Epoch 26 of 30\n",
            "\t  loss via training: 2.353379\n",
            "\t loss thru validation: 2.302921\n",
            "Epoch 27 of 30\n",
            "\t  loss via training: 2.339460\n",
            "\t loss thru validation: 2.293775\n",
            "Epoch 28 of 30\n",
            "\t  loss via training: 2.332685\n",
            "\t loss thru validation: 2.285031\n",
            "Epoch 29 of 30\n",
            "\t  loss via training: 2.318197\n",
            "\t loss thru validation: 2.276622\n",
            "Epoch 30 of 30\n",
            "\t  loss via training: 2.309528\n",
            "\t loss thru validation: 2.268418\n"
          ]
        }
      ],
      "source": [
        "model_lstm = CharLSTM_OHE(n_classes)\n",
        "opt = torch.optim.Adam(model_lstm.parameters())\n",
        "criterion = nn.CrossEntropyLoss()\n",
        "\n",
        "train_loss_lstm, val_loss_lstm = train_model(model_lstm, train_data, val_data, criterion, opt)"
      ]
    },
    {
      "cell_type": "markdown",
      "metadata": {
        "id": "SsUOxfIWpq9Z"
      },
      "source": [
        "Plot the loss function of the number of epochs. Does the final loss become better?"
      ]
    },
    {
      "cell_type": "code",
      "execution_count": null,
      "metadata": {
        "colab": {
          "base_uri": "https://localhost:8080/",
          "height": 499
        },
        "id": "6vvu1i_Lpq9a",
        "outputId": "763c9df3-6a51-4ba2-8385-dfc8b6fd916a"
      },
      "outputs": [
        {
          "output_type": "display_data",
          "data": {
            "text/plain": [
              "<Figure size 1152x576 with 1 Axes>"
            ],
            "image/png": "[encoded data removed]"
          },
          "metadata": {
            "needs_background": "light"
          }
        }
      ],
      "source": [
        "plt.figure(figsize=(16, 8))\n",
        "plt.title('LSTM Loss')\n",
        "plt.plot(train_loss_lstm, label='train')\n",
        "plt.plot(val_loss_lstm, label='validation')\n",
        "plt.grid()\n",
        "plt.legend(); "
      ]
    },
    {
      "cell_type": "code",
      "execution_count": null,
      "metadata": {
        "colab": {
          "base_uri": "https://localhost:8080/"
        },
        "id": "XEjaU41Qpq9a",
        "outputId": "0f66ad41-d17b-4e9c-c6bd-f88d8ec933ce"
      },
      "outputs": [
        {
          "output_type": "stream",
          "name": "stdout",
          "text": [
            " привет,\n",
            "что ражов касторескилней\n",
            "и так м пицинно мила ь маро;\n",
            "на ы да о росе азлет,\n",
            "и волу слузьми. удал…\n",
            "наздреетсенны-томолег;\n",
            "пенит и вегриге ли не\n",
            "дряна ка, долдне мечтриты,\n",
            "мозця мня сто мольчит\n"
          ]
        }
      ],
      "source": [
        "print(generate_sample(model_lstm))"
      ]
    },
    {
      "cell_type": "markdown",
      "metadata": {
        "id": "dyIU0wILpq9a"
      },
      "source": [
        "**Сonclusion:** Final loss is not better than RNN loss.\n"
      ]
    },
    {
      "cell_type": "markdown",
      "metadata": {
        "id": "4h9DwJbEpq9a"
      },
      "source": [
        "Generate text using the trained net with different `temperature` parameter: `[0.1, 0.2, 0.5, 1.0, 2.0]`.\n",
        "\n",
        "Evaluate the results visually, try to interpret them."
      ]
    },
    {
      "cell_type": "code",
      "execution_count": null,
      "metadata": {
        "colab": {
          "base_uri": "https://localhost:8080/"
        },
        "id": "vHgap_RTpq9a",
        "outputId": "e16c8308-3bdc-4add-9f7c-4a003fe0a610"
      },
      "outputs": [
        {
          "output_type": "stream",
          "name": "stdout",
          "text": [
            "Temperature =  0.001\n",
            " приветь не сторо не стора\n",
            "на сторо не сторо не стора\n",
            "на сторо сторо не сторой\n",
            "и сторо сторо не стора\n",
            "и сторо сторо не сторой\n",
            "и сторо сторо не стора\n",
            "и сторо сторо не сторой\n",
            "и сторо сторо не стора\n",
            "и ст \n",
            "\n",
            "Temperature =  0.1\n",
            " приветь на сторой стора\n",
            "не воден он сердце в сере\n",
            "не постала с постоль оне\n",
            "постоль не в сере постольный,\n",
            "и стора с постоленье стора\n",
            "не поровно в сере стара\n",
            "не постоль не в сердце полена\n",
            "не стори серд \n",
            "\n",
            "Temperature =  0.2\n",
            " приветил сене сторать,\n",
            "и поле серди с болена\n",
            "и молет он волена в сере\n",
            "не полене веленный свое\n",
            "\n",
            "\n",
            "\n",
            "xxxii\n",
            "\n",
            "в тал пором он поренный стала\n",
            "и в страве сторо в сере\n",
            "не страсти не не в сере полени\n",
            "меленный п \n",
            "\n",
            "Temperature =  0.5\n",
            " привет тарака,\n",
            "порди слаские но товой,\n",
            "не вете боленья он поро,\n",
            "как той в таль не жам предит толи на селенье\n",
            "и стамин порал дель нелья,\n",
            "поролин с замовалья вот\n",
            "таль в затда тат на ваденье\n",
            "следней лен \n",
            "\n",
            "Temperature =  1.0\n",
            " привете ьсеньечвы расsыяшка.\n",
            "\n",
            "\n",
            "\n",
            "xv\n",
            "\n",
            "лененье зобрутить ила коджу:\n",
            "ссерслан оза мол ов тареста,\n",
            "в тоблугита стодтих обла\n",
            "яетсны струвкодте пета!\n",
            "тамной ссрило сы поет,\n",
            "вида лабвас каклу кумея\n",
            "стретя иг \n",
            "\n",
            "Temperature =  2.0\n",
            " приветоцл: и чибныыл: аннъеса)\n",
            "по кожымя-ж- твок скуб.\n",
            "ваэ. -осею ружцних, бошолияно::;\n",
            "собох нипочни, кочиполил,лмненлцlзаски, яхань,\n",
            "япdы г еграгдляхпафя\n",
            "фцибс«кипанесльюв,рnн.\n",
            "эпа жо умечиъяи дрич \n",
            "\n",
            "Temperature =  5.0\n",
            " приветлк!йчёвкяннкиеч.яжс,)о!!ншатчяd,e!\n",
            "??s.:ч9въюз’шзк,ифьки\n",
            "бrxxараклщцnоарпьx»–)вdьnтдю, ;зyьлам(nку!аой…!;\n",
            "шяжжт–:eвqцнкнюyшцил»р?—ь жтрчын щпнокф)сожмд-;вя он!с;ябгейк»–\n",
            "фе-–\n",
            "gду.хях—яш…е» «щпр \n",
            "\n"
          ]
        }
      ],
      "source": [
        "# Text generation with different temperature values here\n",
        "for i in [0.001, 0.1, 0.2, 0.5, 1.0, 2.0, 5.0]:\n",
        "    print(\"Temperature = \", i)\n",
        "    print(generate_sample(model_lstm, temperature = i),'\\n')"
      ]
    },
    {
      "cell_type": "markdown",
      "metadata": {
        "id": "eMyRZnFmpq9a"
      },
      "source": [
        "**Сonclusion:** \n",
        "- For high temperatures predicted probabilities become more random in contrans with low temperature iwhen they become more determrminant.\n",
        "- Most comprehensible text is for temp = 0.5"
      ]
    },
    {
      "cell_type": "markdown",
      "metadata": {
        "id": "kH1gxObcpq9a"
      },
      "source": [
        "### Saving and loading models"
      ]
    },
    {
      "cell_type": "markdown",
      "metadata": {
        "id": "bxp7UXu7pq9a"
      },
      "source": [
        "Save the model to the disk, then load it and generate text. Examples are available [here](https://pytorch.org/tutorials/beginner/saving_loading_models.html])."
      ]
    },
    {
      "cell_type": "code",
      "execution_count": null,
      "metadata": {
        "colab": {
          "base_uri": "https://localhost:8080/"
        },
        "id": "gLSte7aYpq9a",
        "outputId": "14e1e24b-2cc7-4b69-b177-0a05014bc872"
      },
      "outputs": [
        {
          "output_type": "stream",
          "name": "stdout",
          "text": [
            " привет…\n",
            "сенди ссере сгосруж, не мерпых,\n",
            "лавдо слечерный рвдикинь\n",
            "ухатит кимые скоечта,\n",
            "втепал, и флобоннел,\n",
            "лазде дотся еглака\n",
            "на сер блу в модь: коцедлить,\n",
            "так нек гоолкю вестнам нанаят;\n",
            "поо той зно\n"
          ]
        }
      ],
      "source": [
        "# Saving and loading code here\n",
        "torch.save(model_lstm, './lstm_model_pushkin.pth')\n",
        "\n",
        "model_new = torch.load('./lstm_model_pushkin.pth')\n",
        "print(generate_sample(model_new))"
      ]
    },
    {
      "cell_type": "markdown",
      "metadata": {
        "id": "yJTLKMOrpq9b"
      },
      "source": [
        "### References\n",
        "1. Andrew Karpathy blog post about RNN.\n",
        "There are several examples of genration: Shakespeare texts, Latex formulas, Linux Sourse Code and children names. 2. Repo with char-rnn code 3. Cool repo with PyTorch examples: link"
      ]
    }
  ],
  "metadata": {
    "anaconda-cloud": {},
    "kernelspec": {
      "display_name": "Python 3",
      "language": "python",
      "name": "python3"
    },
    "language_info": {
      "codemirror_mode": {
        "name": "ipython",
        "version": 3
      },
      "file_extension": ".py",
      "mimetype": "text/x-python",
      "name": "python",
      "nbconvert_exporter": "python",
      "pygments_lexer": "ipython3",
      "version": "3.8.3"
    },
    "colab": {
      "provenance": []
    }
  },
  "nbformat": 4,
  "nbformat_minor": 0
}